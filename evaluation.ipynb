{
 "cells": [
  {
   "cell_type": "markdown",
   "id": "a2f2291c",
   "metadata": {},
   "source": [
    "## **Evaluation**"
   ]
  },
  {
   "cell_type": "code",
   "execution_count": 1,
   "id": "95b624a7",
   "metadata": {},
   "outputs": [],
   "source": [
    "import eval_pipeline\n",
    "import warnings\n",
    "\n",
    "warnings.filterwarnings(\"ignore\")"
   ]
  },
  {
   "cell_type": "code",
   "execution_count": 2,
   "id": "75c53905",
   "metadata": {},
   "outputs": [
    {
     "name": "stdout",
     "output_type": "stream",
     "text": [
      "Getting Traffic Dataset...\n",
      "Dataset retrived...\n",
      "Dataset split into train and test...\n",
      "Load the model and config from Autoformer Transformers Implementation...\n",
      "Computing predictions for the dataset...\n",
      "Shape of the forecasts: (64, 100, 24)\n",
      "Stacked Forecast for all the batches in the dataloader: (6034, 100, 24)\n",
      "Evaluaing on MASE metric...\n"
     ]
    },
    {
     "data": {
      "application/vnd.jupyter.widget-view+json": {
       "model_id": "b482029edf3240459ff763bc1ab66d92",
       "version_major": 2,
       "version_minor": 0
      },
      "text/plain": [
       "  0%|          | 0/6034 [00:00<?, ?it/s]"
      ]
     },
     "metadata": {},
     "output_type": "display_data"
    },
    {
     "name": "stdout",
     "output_type": "stream",
     "text": [
      "Autoformer univariate MASE: 0.849\n"
     ]
    }
   ],
   "source": [
    "# running eval from eval_pipeline\n",
    "forecast, prediction_length, test_dataset = eval_pipeline.eval_()"
   ]
  },
  {
   "cell_type": "code",
   "execution_count": null,
   "id": "feb5db70",
   "metadata": {},
   "outputs": [],
   "source": [
    "eval_pipeline.plot(4, test_dataset, prediction_length, forecast)"
   ]
  },
  {
   "cell_type": "code",
   "execution_count": null,
   "metadata": {},
   "outputs": [],
   "source": []
  }
 ],
 "metadata": {
  "kernelspec": {
   "display_name": "base",
   "language": "python",
   "name": "python3"
  },
  "language_info": {
   "codemirror_mode": {
    "name": "ipython",
    "version": 3
   },
   "file_extension": ".py",
   "mimetype": "text/x-python",
   "name": "python",
   "nbconvert_exporter": "python",
   "pygments_lexer": "ipython3",
   "version": "3.12.3"
  }
 },
 "nbformat": 4,
 "nbformat_minor": 5
}
